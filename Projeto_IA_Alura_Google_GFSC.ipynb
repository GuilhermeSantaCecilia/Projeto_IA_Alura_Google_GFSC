{
  "nbformat": 4,
  "nbformat_minor": 0,
  "metadata": {
    "colab": {
      "provenance": [],
      "authorship_tag": "ABX9TyPZ1LS9qFkPQFDWSvEh5v/d",
      "include_colab_link": true
    },
    "kernelspec": {
      "name": "python3",
      "display_name": "Python 3"
    },
    "language_info": {
      "name": "python"
    }
  },
  "cells": [
    {
      "cell_type": "markdown",
      "metadata": {
        "id": "view-in-github",
        "colab_type": "text"
      },
      "source": [
        "<a href=\"https://colab.research.google.com/github/GuilhermeSantaCecilia/Projeto_IA_Alura_Google_GFSC/blob/main/Projeto_IA_Alura_Google_GFSC.ipynb\" target=\"_parent\"><img src=\"https://colab.research.google.com/assets/colab-badge.svg\" alt=\"Open In Colab\"/></a>"
      ]
    },
    {
      "cell_type": "code",
      "execution_count": 1,
      "metadata": {
        "id": "hJERiHoR8wXf"
      },
      "outputs": [],
      "source": [
        "!pip install -q -U google-generativeai"
      ]
    },
    {
      "cell_type": "code",
      "source": [
        "import google.generativeai as genai\n",
        "from google.colab import userdata\n",
        "\n",
        "GOOGLE_API_KEY = userdata.get('secret_key')\n",
        "genai.configure(api_key=GOOGLE_API_KEY)"
      ],
      "metadata": {
        "id": "rORl9LkW8212"
      },
      "execution_count": 12,
      "outputs": []
    },
    {
      "cell_type": "code",
      "source": [
        "for m in genai.list_models():\n",
        "  if 'generateContent' in m.supported_generation_methods:\n",
        "    print(m.name)"
      ],
      "metadata": {
        "colab": {
          "base_uri": "https://localhost:8080/",
          "height": 138
        },
        "id": "1yjGOIOc848Y",
        "outputId": "58661e21-7ae2-40bd-ec56-19c596e728cf"
      },
      "execution_count": 13,
      "outputs": [
        {
          "output_type": "stream",
          "name": "stdout",
          "text": [
            "models/gemini-1.0-pro\n",
            "models/gemini-1.0-pro-001\n",
            "models/gemini-1.0-pro-latest\n",
            "models/gemini-1.0-pro-vision-latest\n",
            "models/gemini-1.5-pro-latest\n",
            "models/gemini-pro\n",
            "models/gemini-pro-vision\n"
          ]
        }
      ]
    },
    {
      "cell_type": "code",
      "source": [
        "generation_config = {\n",
        "    \"candidate_count\": 1,\n",
        "    \"temperature\": 0.5,\n",
        "    \"top_p\": 0.95,\n",
        "    \"top_k\": 35,\n",
        "    \"max_output_tokens\": 1000\n",
        "}"
      ],
      "metadata": {
        "id": "rBSAZwMr86c1"
      },
      "execution_count": 14,
      "outputs": []
    },
    {
      "cell_type": "code",
      "source": [
        "safety_settings = {\n",
        "    \"HARASSMENT\": \"BLOCK_NONE\",\n",
        "    \"HATE\": \"BLOCK_NONE\",\n",
        "    \"SEXUAL\": \"BLOCK_NONE\",\n",
        "    \"DANGEROUS\": \"BLOCK_NONE\",\n",
        "}"
      ],
      "metadata": {
        "id": "2far7nsC88Kp"
      },
      "execution_count": 15,
      "outputs": []
    },
    {
      "cell_type": "code",
      "source": [
        "model = genai.GenerativeModel(model_name = \"gemini-1.0-pro\",\n",
        "                              generation_config = generation_config,\n",
        "                              safety_settings = safety_settings)"
      ],
      "metadata": {
        "id": "Go_lQMqq89ow"
      },
      "execution_count": 16,
      "outputs": []
    },
    {
      "cell_type": "code",
      "source": [
        "response = model.generate_content(\"Vamos aprender conteúdo sobre IA. Me dê sugestões.\")\n",
        "print(response.text)"
      ],
      "metadata": {
        "colab": {
          "base_uri": "https://localhost:8080/",
          "height": 815
        },
        "id": "T7nI4dDm8-26",
        "outputId": "511ed20e-c686-405d-8587-fb57f0f6add4"
      },
      "execution_count": 17,
      "outputs": [
        {
          "output_type": "stream",
          "name": "stdout",
          "text": [
            "**Recursos Online:**\n",
            "\n",
            "* **Coursera:** Cursos sobre IA, aprendizado de máquina, visão computacional e processamento de linguagem natural\n",
            "* **edX:** Cursos sobre IA, aprendizado profundo e análise de dados\n",
            "* **Udemy:** Cursos sobre IA, aprendizado de máquina e desenvolvimento de aplicativos de IA\n",
            "* **MIT OpenCourseWare:** Cursos sobre IA, aprendizado de máquina e robótica\n",
            "* **Google AI Education:** Recursos de aprendizado sobre IA, incluindo cursos, tutoriais e projetos\n",
            "\n",
            "**Livros:**\n",
            "\n",
            "* **Inteligência Artificial: Uma Abordagem Moderna** por Stuart Russell e Peter Norvig\n",
            "* **Aprendizado de Máquina** por Tom Mitchell\n",
            "* **Visão Computacional** por Richard Szeliski\n",
            "* **Processamento de Linguagem Natural** por Daniel Jurafsky e James Martin\n",
            "* **IA para Todos** por Andrew Ng\n",
            "\n",
            "**Tutoriais e Artigos:**\n",
            "\n",
            "* **TensorFlow Tutorial**\n",
            "* **PyTorch Tutorial**\n",
            "* **Introdução à Visão Computacional**\n",
            "* **Introdução ao Processamento de Linguagem Natural**\n",
            "* **Artigos de Pesquisa sobre IA**\n",
            "\n",
            "**Comunidades e Fóruns:**\n",
            "\n",
            "* **Stack Overflow**\n",
            "* **Reddit r/artificialintelligence**\n",
            "* **Kaggle**\n",
            "* **Meetup Groups sobre IA**\n",
            "* **Conferências e Eventos sobre IA**\n",
            "\n",
            "**Projetos Práticos:**\n",
            "\n",
            "* **Participe de desafios de IA**\n",
            "* **Construa seus próprios aplicativos de IA**\n",
            "* **Contribua para projetos de código aberto de IA**\n",
            "* **Realize pesquisas em IA**\n",
            "\n",
            "**Outras Sugestões:**\n",
            "\n",
            "* **Assistir a palestras e webinars sobre IA**\n",
            "* **Ler blogs e artigos de notícias sobre IA**\n",
            "* **Participar de workshops e hackathons de IA**\n",
            "* **Conectar-se com profissionais de IA**\n",
            "* **Manter-se atualizado com as últimas tendências em IA**\n"
          ]
        }
      ]
    },
    {
      "cell_type": "code",
      "source": [
        "chat = model.start_chat(history = [])"
      ],
      "metadata": {
        "id": "_3ShoBo29Twy"
      },
      "execution_count": 18,
      "outputs": []
    },
    {
      "cell_type": "code",
      "source": [
        "prompt = input(\"Esperando prompt: \")\n",
        "\n",
        "while prompt != \"fim\":\n",
        "  response = chat.send_message(prompt)\n",
        "  print(\"Resposta: \", response.text, \"\\n\")\n",
        "  prompt = input(\"Esperando prompt: \")"
      ],
      "metadata": {
        "colab": {
          "base_uri": "https://localhost:8080/",
          "height": 1000
        },
        "id": "_tknGV6o9CB4",
        "outputId": "6f005ba0-27ba-4f71-febb-f0e10d9f5b34"
      },
      "execution_count": 19,
      "outputs": [
        {
          "name": "stdout",
          "output_type": "stream",
          "text": [
            "Esperando prompt: se eu te entregar uma base com tweets voce consegue fazer uma analise de sentimento correlacionando com certas pessoas?\n",
            "Resposta:  Sim, é possível realizar uma análise de sentimento em tweets e correlacioná-la com certas pessoas usando técnicas de processamento de linguagem natural (PNL). Aqui está um processo geral:\n",
            "\n",
            "**1. Coleta de dados:**\n",
            "* Colete uma base de tweets que contenham menções às pessoas de interesse.\n",
            "\n",
            "**2. Pré-processamento de dados:**\n",
            "* Remova ruídos, como pontuação, URLs e hashtags.\n",
            "* Converta o texto para minúsculas.\n",
            "* Realize a tokenização (divida o texto em palavras individuais).\n",
            "\n",
            "**3. Análise de sentimento:**\n",
            "* Use um analisador de sentimento para atribuir uma pontuação de sentimento (por exemplo, positivo, negativo, neutro) a cada tweet.\n",
            "* Existem vários analisadores de sentimento disponíveis, como VADER, TextBlob e NLTK.\n",
            "\n",
            "**4. Correlação com pessoas:**\n",
            "* Identifique as pessoas mencionadas em cada tweet.\n",
            "* Calcule a pontuação média de sentimento dos tweets associados a cada pessoa.\n",
            "\n",
            "**5. Visualização:**\n",
            "* Crie visualizações para mostrar a correlação entre as pontuações de sentimento e as pessoas.\n",
            "* Isso pode ser feito usando gráficos de barras, gráficos de dispersão ou mapas de calor.\n",
            "\n",
            "**Ferramentas:**\n",
            "Existem várias ferramentas que podem ser usadas para realizar esta tarefa, incluindo:\n",
            "\n",
            "* **Python:** Com bibliotecas como NLTK, TextBlob e VADER\n",
            "* **R:** Com pacotes como tidytext e quanteda\n",
            "* **Ferramentas online:** Como MonkeyLearn e Google Cloud Natural Language API\n",
            "\n",
            "**Observações:**\n",
            "\n",
            "* A precisão da análise de sentimento depende da qualidade dos dados e do analisador de sentimento usado.\n",
            "* É importante considerar o contexto dos tweets ao interpretar os resultados.\n",
            "* A correlação não implica causalidade. \n",
            "\n",
            "Esperando prompt: voce conseguiria fazer essa analise de sentimentos se tiver a base de dados?\n",
            "Resposta:  Sim, posso realizar uma análise de sentimento em uma base de dados de tweets e correlacioná-la com certas pessoas se você me fornecer os dados.\n",
            "\n",
            "**Procedimento:**\n",
            "\n",
            "1. **Carregamento de dados:** Carregarei a base de dados de tweets no meu ambiente de programação (por exemplo, Python ou R).\n",
            "2. **Pré-processamento de dados:** Seguirei as etapas de pré-processamento descritas anteriormente para limpar e preparar os dados para análise.\n",
            "3. **Análise de sentimento:** Usarei um analisador de sentimento confiável (por exemplo, VADER ou TextBlob) para atribuir uma pontuação de sentimento a cada tweet.\n",
            "4. **Correlação com pessoas:** Identificarei as pessoas mencionadas em cada tweet e calcularei a pontuação média de sentimento dos tweets associados a cada pessoa.\n",
            "5. **Visualização:** Criarei visualizações para mostrar a correlação entre as pontuações de sentimento e as pessoas.\n",
            "\n",
            "**Requisitos:**\n",
            "\n",
            "Para realizar a análise, precisarei dos seguintes dados:\n",
            "\n",
            "* Uma base de dados de tweets em formato de texto ou CSV.\n",
            "* Uma lista das pessoas de interesse que devem ser correlacionadas com as pontuações de sentimento.\n",
            "\n",
            "**Entrega:**\n",
            "\n",
            "Fornecerei os seguintes resultados:\n",
            "\n",
            "* Um relatório resumindo os resultados da análise de sentimento.\n",
            "* Visualizações que mostram a correlação entre as pontuações de sentimento e as pessoas.\n",
            "\n",
            "**Observações:**\n",
            "\n",
            "* O tempo necessário para concluir a análise dependerá do tamanho e da complexidade da base de dados de tweets.\n",
            "* Estou disponível para discutir os requisitos específicos e fornecer uma estimativa de tempo mais precisa. \n",
            "\n",
            "Esperando prompt: fim\n"
          ]
        }
      ]
    },
    {
      "cell_type": "code",
      "source": [
        "# Melhorando a visualização\n",
        "# Código disponível em https://ai.google.dev/tutorials/python_quickstart#import_packages\n",
        "\n",
        "import textwrap\n",
        "from IPython.display import display\n",
        "from IPython.display import Markdown\n",
        "\n",
        "def to_markdown(text):\n",
        "  text = text.replace('•', ' *')\n",
        "  return Markdown(textwrap.indent(text,'>', predicate=lambda _: True))\n",
        "\n",
        "# Imprimindo o histórico\n",
        "for message in chat.history:\n",
        "  display(to_markdown(f'**{message.role}**: {message.parts[0].text}'))\n",
        "  print('--------------------------------------------')"
      ],
      "metadata": {
        "colab": {
          "base_uri": "https://localhost:8080/",
          "height": 1000
        },
        "id": "EyUGuMsQ9Dt0",
        "outputId": "5461d60d-f2a6-42c2-8149-e7d8b4258bfe"
      },
      "execution_count": 20,
      "outputs": [
        {
          "output_type": "display_data",
          "data": {
            "text/plain": [
              "<IPython.core.display.Markdown object>"
            ],
            "text/markdown": ">**user**: se eu te entregar uma base com tweets voce consegue fazer uma analise de sentimento correlacionando com certas pessoas?"
          },
          "metadata": {}
        },
        {
          "output_type": "stream",
          "name": "stdout",
          "text": [
            "--------------------------------------------\n"
          ]
        },
        {
          "output_type": "display_data",
          "data": {
            "text/plain": [
              "<IPython.core.display.Markdown object>"
            ],
            "text/markdown": ">**model**: Sim, é possível realizar uma análise de sentimento em tweets e correlacioná-la com certas pessoas usando técnicas de processamento de linguagem natural (PNL). Aqui está um processo geral:\n>\n>**1. Coleta de dados:**\n>* Colete uma base de tweets que contenham menções às pessoas de interesse.\n>\n>**2. Pré-processamento de dados:**\n>* Remova ruídos, como pontuação, URLs e hashtags.\n>* Converta o texto para minúsculas.\n>* Realize a tokenização (divida o texto em palavras individuais).\n>\n>**3. Análise de sentimento:**\n>* Use um analisador de sentimento para atribuir uma pontuação de sentimento (por exemplo, positivo, negativo, neutro) a cada tweet.\n>* Existem vários analisadores de sentimento disponíveis, como VADER, TextBlob e NLTK.\n>\n>**4. Correlação com pessoas:**\n>* Identifique as pessoas mencionadas em cada tweet.\n>* Calcule a pontuação média de sentimento dos tweets associados a cada pessoa.\n>\n>**5. Visualização:**\n>* Crie visualizações para mostrar a correlação entre as pontuações de sentimento e as pessoas.\n>* Isso pode ser feito usando gráficos de barras, gráficos de dispersão ou mapas de calor.\n>\n>**Ferramentas:**\n>Existem várias ferramentas que podem ser usadas para realizar esta tarefa, incluindo:\n>\n>* **Python:** Com bibliotecas como NLTK, TextBlob e VADER\n>* **R:** Com pacotes como tidytext e quanteda\n>* **Ferramentas online:** Como MonkeyLearn e Google Cloud Natural Language API\n>\n>**Observações:**\n>\n>* A precisão da análise de sentimento depende da qualidade dos dados e do analisador de sentimento usado.\n>* É importante considerar o contexto dos tweets ao interpretar os resultados.\n>* A correlação não implica causalidade."
          },
          "metadata": {}
        },
        {
          "output_type": "stream",
          "name": "stdout",
          "text": [
            "--------------------------------------------\n"
          ]
        },
        {
          "output_type": "display_data",
          "data": {
            "text/plain": [
              "<IPython.core.display.Markdown object>"
            ],
            "text/markdown": ">**user**: voce conseguiria fazer essa analise de sentimentos se tiver a base de dados?"
          },
          "metadata": {}
        },
        {
          "output_type": "stream",
          "name": "stdout",
          "text": [
            "--------------------------------------------\n"
          ]
        },
        {
          "output_type": "display_data",
          "data": {
            "text/plain": [
              "<IPython.core.display.Markdown object>"
            ],
            "text/markdown": ">**model**: Sim, posso realizar uma análise de sentimento em uma base de dados de tweets e correlacioná-la com certas pessoas se você me fornecer os dados.\n>\n>**Procedimento:**\n>\n>1. **Carregamento de dados:** Carregarei a base de dados de tweets no meu ambiente de programação (por exemplo, Python ou R).\n>2. **Pré-processamento de dados:** Seguirei as etapas de pré-processamento descritas anteriormente para limpar e preparar os dados para análise.\n>3. **Análise de sentimento:** Usarei um analisador de sentimento confiável (por exemplo, VADER ou TextBlob) para atribuir uma pontuação de sentimento a cada tweet.\n>4. **Correlação com pessoas:** Identificarei as pessoas mencionadas em cada tweet e calcularei a pontuação média de sentimento dos tweets associados a cada pessoa.\n>5. **Visualização:** Criarei visualizações para mostrar a correlação entre as pontuações de sentimento e as pessoas.\n>\n>**Requisitos:**\n>\n>Para realizar a análise, precisarei dos seguintes dados:\n>\n>* Uma base de dados de tweets em formato de texto ou CSV.\n>* Uma lista das pessoas de interesse que devem ser correlacionadas com as pontuações de sentimento.\n>\n>**Entrega:**\n>\n>Fornecerei os seguintes resultados:\n>\n>* Um relatório resumindo os resultados da análise de sentimento.\n>* Visualizações que mostram a correlação entre as pontuações de sentimento e as pessoas.\n>\n>**Observações:**\n>\n>* O tempo necessário para concluir a análise dependerá do tamanho e da complexidade da base de dados de tweets.\n>* Estou disponível para discutir os requisitos específicos e fornecer uma estimativa de tempo mais precisa."
          },
          "metadata": {}
        },
        {
          "output_type": "stream",
          "name": "stdout",
          "text": [
            "--------------------------------------------\n"
          ]
        }
      ]
    }
  ]
}